{
 "cells": [
  {
   "cell_type": "code",
   "execution_count": 19,
   "metadata": {},
   "outputs": [
    {
     "name": "stderr",
     "output_type": "stream",
     "text": [
      "Downloading...\n",
      "From: https://drive.google.com/uc?id=1_nyLNsT55X37Y0KDBXVXzSYsX-SoSqZi\n",
      "To: c:\\Users\\marce\\Ciencias-de-Dados\\DIO_Ifood-Dev-Week\\feedbacks.csv\n",
      "100%|██████████| 351/351 [00:00<?, ?B/s] \n"
     ]
    }
   ],
   "source": [
    "import pandas as pd\n",
    "import gdown \n",
    "\n",
    "file_id = '1_nyLNsT55X37Y0KDBXVXzSYsX-SoSqZi'\n",
    "gdown.download(f'https://drive.google.com/uc?id={file_id}', 'feedbacks.csv')\n",
    "\n",
    "dados = pd.read_csv('feedbacks.csv', delimiter=';')"
   ]
  },
  {
   "cell_type": "code",
   "execution_count": 23,
   "metadata": {},
   "outputs": [
    {
     "name": "stdout",
     "output_type": "stream",
     "text": [
      "57.14285714285714\n"
     ]
    }
   ],
   "source": [
    "def calcular_nps(notas):\n",
    "    detratores = sum(notas.apply(lambda nota: nota <= 6))\n",
    "    promotores = notas[notas >= 9].count()\n",
    "    \n",
    "    return (promotores - detratores) / len(notas) * 100\n",
    "\n",
    "notas = dados['nota']\n",
    "\n",
    "nps = calcular_nps(notas)\n",
    "\n",
    "print(nps)"
   ]
  },
  {
   "cell_type": "code",
   "execution_count": 25,
   "metadata": {},
   "outputs": [
    {
     "name": "stdout",
     "output_type": "stream",
     "text": [
      "57.14285714285714\n"
     ]
    }
   ],
   "source": [
    "class Feedback:\n",
    "    def __init__(self, nota, comentario):\n",
    "        self.nota = nota\n",
    "        self.comentario = comentario\n",
    "        \n",
    "class AnalisadorFeedback:\n",
    "    def __init__(self, feedbacks):\n",
    "        self.feedbacks = feedbacks\n",
    "    \n",
    "    def calcular_nps(self):\n",
    "        detratores = sum(1 for feedback in self.feedbacks if feedback.nota <= 6)\n",
    "        promotores = sum(1 for feedback in self.feedbacks if feedback.nota >= 9)\n",
    "        \n",
    "        return (promotores - detratores) / len(self.feedbacks) * 100\n",
    "    \n",
    "feedbacks = [Feedback(linha['nota'], linha['comentario']) for i, linha in dados.iterrows()]\n",
    "\n",
    "analisador = AnalisadorFeedback(feedbacks)\n",
    "nps = analisador.calcular_nps()\n",
    "\n",
    "print(nps)\n",
    "    "
   ]
  },
  {
   "attachments": {},
   "cell_type": "markdown",
   "metadata": {},
   "source": [
    "DIA 2\n",
    "<p>Criação de gráfico para visualizar e compreender o nível de satisfação dos usuários</p>"
   ]
  },
  {
   "cell_type": "code",
   "execution_count": 43,
   "metadata": {},
   "outputs": [
    {
     "data": {
      "image/png": "[encoded data removed]",
      "text/plain": [
       "<Figure size 720x216 with 1 Axes>"
      ]
     },
     "metadata": {
      "needs_background": "light"
     },
     "output_type": "display_data"
    }
   ],
   "source": [
    "import matplotlib.pyplot as plt\n",
    "import matplotlib.patches as mpatches\n",
    "\n",
    "# Definição das constantes que usaremos para visualizar o NPS\n",
    "nps_zonas = ['Crítico', 'Aperfeiçoamento', 'Qualidade', 'Excelência']\n",
    "nps_valores = [-100, 0, 50 ,75, 100]\n",
    "nps_cores = ['#FF595E', '#FFCA3A', '#8AC926', '#1982C4']\n",
    "\n",
    "# Criar um gráfico com matplotlib para visualizar o NPS\n",
    "def criar_grafico_nps(nps):\n",
    "    fig, ax = plt.subplots(figsize=(10, 3))\n",
    "    \n",
    "    for i, zona in enumerate(nps_zonas):\n",
    "        ax.barh([0], width=nps_valores[i+1] - nps_valores[i], left=nps_valores[i], color=nps_cores[i])\n",
    "    \n",
    "    ax.barh([0], width=0.5,left=nps, color='black')\n",
    "    ax.set_yticks([])\n",
    "    ax.set_xticks(nps_valores)\n",
    "    ax.set_xlim(-100, 100)\n",
    "    \n",
    "    plt.text(nps, 0, f'{nps:.2f}', ha='center', va='center', color='w', bbox=dict(facecolor='black'))\n",
    "    \n",
    "    patches = [mpatches.Patch(color=nps_cores[i], label=nps_zonas[i]) for i in range(len(nps_zonas))]\n",
    "    plt.legend(handles=patches, bbox_to_anchor=(1, 1))\n",
    "    \n",
    "    plt.show();\n",
    "\n",
    "\n",
    "criar_grafico_nps(nps)"
   ]
  },
  {
   "attachments": {},
   "cell_type": "markdown",
   "metadata": {},
   "source": [
    "DIA 3"
   ]
  },
  {
   "cell_type": "code",
   "execution_count": null,
   "metadata": {},
   "outputs": [],
   "source": []
  }
 ],
 "metadata": {
  "kernelspec": {
   "display_name": "Python 3",
   "language": "python",
   "name": "python3"
  },
  "language_info": {
   "codemirror_mode": {
    "name": "ipython",
    "version": 3
   },
   "file_extension": ".py",
   "mimetype": "text/x-python",
   "name": "python",
   "nbconvert_exporter": "python",
   "pygments_lexer": "ipython3",
   "version": "3.10.1"
  },
  "orig_nbformat": 4
 },
 "nbformat": 4,
 "nbformat_minor": 2
}
